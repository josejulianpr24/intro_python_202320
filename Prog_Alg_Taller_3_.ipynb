{
  "nbformat": 4,
  "nbformat_minor": 0,
  "metadata": {
    "colab": {
      "provenance": [],
      "authorship_tag": "ABX9TyMHWM65TlxMeHQ2qhD7O+Gf",
      "include_colab_link": true
    },
    "kernelspec": {
      "name": "python3",
      "display_name": "Python 3"
    },
    "language_info": {
      "name": "python"
    }
  },
  "cells": [
    {
      "cell_type": "markdown",
      "metadata": {
        "id": "view-in-github",
        "colab_type": "text"
      },
      "source": [
        "<a href=\"https://colab.research.google.com/github/josejulianpr24/intro_python_202320/blob/main/Prog_Alg_Taller_3_.ipynb\" target=\"_parent\"><img src=\"https://colab.research.google.com/assets/colab-badge.svg\" alt=\"Open In Colab\"/></a>"
      ]
    },
    {
      "cell_type": "markdown",
      "source": [
        "Curso de Programacion y Algoritmia UPB 202320\n",
        "\n",
        "Nombre.. José Julián Pérez Ramos\n",
        "\n",
        "Id 000461502\n",
        "\n",
        "Email: josej.perez@upb.edu.co\n",
        "\n",
        "Nombre.. Jesus David Padilla Agresot\n",
        "\n",
        "Id: 000501420\n",
        "\n",
        "Email: jesus.padillaa@upb.edu.co\n",
        "\n"
      ],
      "metadata": {
        "id": "U9q9ygs-wezJ"
      }
    },
    {
      "cell_type": "markdown",
      "source": [
        "$Problema 1$\n",
        "Calcular y mostrar la posición de una partícula que experimenta movimiento uniformemente\n",
        "acelerado a partir de su posición inicial (𝑥0), velocidad inicial (𝑣0) y aceleración (𝑎) en dos instantes de\n",
        "tiempo diferentes. La posición en un instante de tiempo está dada por:\n",
        "![Captura de pantalla 2023-08-26 144630.png](data:image/png;base64,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)\n",
        "\n",
        "\n",
        "\n",
        "    \n"
      ],
      "metadata": {
        "id": "ajpmfnkuJ1K3"
      }
    },
    {
      "cell_type": "code",
      "source": [
        "x0 = 38\n",
        "v0 = 20\n",
        "a = 12\n",
        "t = 10\n",
        "x = x0 + v0 + 1/2 * a * t ** 2\n",
        "float(input(\"ingrese el valor de la posicion inicial: \"))\n",
        "float(input(\"ingrese el valor de la velocidad inicial:\"))\n",
        "float(input(\"ingrese el valor de la aceleracion:\"))\n",
        "float(input(\"ingrese el valor del tiempo\"))\n",
        "print(\"la posicion de la particula con posicion inicial\", (str(x0)), \"velocidad inicial\", (str(v0)), \"aceleracion\", (str(a)), \"tiempo\", (str(t)),\"es\",str(x))"
      ],
      "metadata": {
        "colab": {
          "base_uri": "https://localhost:8080/"
        },
        "id": "8fRM34QqKhDr",
        "outputId": "dcc78a2f-0126-4590-db06-8ce41e3ce13c"
      },
      "execution_count": 21,
      "outputs": [
        {
          "output_type": "stream",
          "name": "stdout",
          "text": [
            "ingrese el valor de la posicion inicial: 38\n",
            "ingrese el valor de la velocidad inicial:20\n",
            "ingrese el valor de la aceleracion:12\n",
            "ingrese el valor del tiempo10\n",
            "la posicion de la particula con posicion inicial 38 velocidad inicial 20 aceleracion 12 tiempo 10 es 658.0\n"
          ]
        }
      ]
    },
    {
      "cell_type": "markdown",
      "source": [
        "$Problema 2.$\n",
        "Calcular y mostrar la distancia entre dos puntos $𝑃1 y 𝑃2$ ubicados en las coordenadas $(𝑥1, 𝑦1) y (𝑥2, 𝑦2)$. La distancia euclidiana se calcula con la ecuación:\n",
        "\n",
        "\n",
        "![Captura de pantalla 2023-08-26 141228.png](data:image/png;base64,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)\n",
        "    \n"
      ],
      "metadata": {
        "id": "Grb4BDhb_SJO"
      }
    },
    {
      "cell_type": "code",
      "source": [],
      "metadata": {
        "id": "b5ngtA9uJx80"
      },
      "execution_count": null,
      "outputs": []
    },
    {
      "cell_type": "code",
      "execution_count": 28,
      "metadata": {
        "id": "RNxTqh57_MuA",
        "colab": {
          "base_uri": "https://localhost:8080/"
        },
        "outputId": "7ee54904-b228-4fa4-c9fc-9dbbcc9da26d"
      },
      "outputs": [
        {
          "output_type": "stream",
          "name": "stdout",
          "text": [
            "Ingrese la coordenada x1: 5.3\n",
            "Ingrese la coordenada y1: 2.8\n",
            "Ingrese la coordenada x2: 1.3\n",
            "Ingrese la coordenada y2: 4.2\n",
            "La distancia entre los dos puntos es: 4.237924020083418\n"
          ]
        }
      ],
      "source": [
        "import math\n",
        "\n",
        "x1 = float(input(\"Ingrese la coordenada x1: \"))\n",
        "y1 = float(input(\"Ingrese la coordenada y1: \"))\n",
        "x2 = float(input(\"Ingrese la coordenada x2: \"))\n",
        "y2 = float(input(\"Ingrese la coordenada y2: \"))\n",
        "\n",
        "distance = math.sqrt((x2 - x1)**2 + (y2 - y1)**2)\n",
        "print(\"La distancia entre los dos puntos es:\", distance)"
      ]
    },
    {
      "cell_type": "markdown",
      "source": [
        "$Problema 3$\n",
        "Calcular y mostrar el valor del volumen de un cilindro cuyo radio y altura sean ingresados por el\n",
        "usuario. El volumen de un cilindro está dado por:\n",
        "\n",
        "$𝑉 = 𝜋𝑟2ℎ$\n",
        "\n",
        "Donde $𝜋 = 3.141592,$ 𝑟 es el radio y ℎ la altura."
      ],
      "metadata": {
        "id": "xCJCdl5QgPdV"
      }
    },
    {
      "cell_type": "code",
      "source": [
        "radio = float(input(\"Ingrese el valor del radio  \"))\n",
        "altura = float(input(\"Ingrese el valor de la altura \"))\n",
        "\n",
        "# Definir el valor de pi\n",
        "pi = 3.141592\n",
        "\n",
        "# Calcular el volumen del cilindro usando la fórmula V = pi * r^2 * h\n",
        "volumen = pi * (radio ** 2) * altura\n",
        "\n",
        "# Mostrar el resultado\n",
        "print(f\"El volumen del cilindro con radio {radio} y altura {altura} es: {volumen}\")\n"
      ],
      "metadata": {
        "colab": {
          "base_uri": "https://localhost:8080/"
        },
        "id": "-5daNt8pma0n",
        "outputId": "f126af61-d40c-4d32-e07a-e78a533ac19c"
      },
      "execution_count": 58,
      "outputs": [
        {
          "output_type": "stream",
          "name": "stdout",
          "text": [
            "Ingrese el valor del radio  34.5\n",
            "Ingrese el valor de la altura 10\n",
            "El volumen del cilindro con radio 34.5 y altura 10.0 es: 37392.798780000005\n"
          ]
        }
      ]
    },
    {
      "cell_type": "markdown",
      "source": [
        "$Problema    4$\n",
        "   \n",
        "   Calcular y mostrar el resultado de las siguientes operaciones lógicas:\n",
        "1. A > B y B > D\n",
        "2. B <= C o C < D\n",
        "3. A = B y B > C\n",
        "4. A < C o B < C\n",
        "5. A + D < C y B > 5\n",
        "6. D – C >= - A * B\n",
        "7. D * C == 5 o C * A > 9\n",
        "8. A * B + C > - D * 10\n",
        "\n",
        "\n",
        "\n",
        "\n"
      ],
      "metadata": {
        "id": "fMIDGatMLW2R"
      }
    },
    {
      "cell_type": "code",
      "source": [
        "# Definir los valores de A, B, C y D\n",
        "A = 10\n",
        "B = 5\n",
        "C = 8\n",
        "D = 2\n",
        "# 1. A > B y B > D\n",
        "resultado1 = A > B and B > D\n",
        "\n",
        "# 2. B <= C o C < D\n",
        "resultado2 = B <= C or C < D\n",
        "\n",
        "# 3. A = B y B > C\n",
        "resultado3 = A == B and B > C\n",
        "\n",
        "# 4. A < C o B < C\n",
        "resultado4 = A < C or B < C\n",
        "\n",
        "# 5. A + D < C y B > 5\n",
        "resultado5 = A + D < C and B > 5.4\n",
        "\n",
        "# 6. D - C >= -A * B\n",
        "resultado6 = D - C >= -A * B\n",
        "\n",
        "# 7. D * C == 5 o C * A > 9\n",
        "resultado7 = D * C == 5 or C * A > 9\n",
        "\n",
        "# 8. A * B + C > -D * 10\n",
        "resultado8 = A * B + C > -D * 10\n",
        "\n",
        "# Mostrar los resultados\n",
        "print(\"Resultado 1:\", resultado1)\n",
        "print(\"Resultado 2:\", resultado2)\n",
        "print(\"Resultado 3:\", resultado3)\n",
        "print(\"Resultado 4:\", resultado4)\n",
        "print(\"Resultado 5:\", resultado5)\n",
        "print(\"Resultado 6:\", resultado6)\n",
        "print(\"Resultado 7:\", resultado7)\n",
        "print(\"Resultado 8:\", resultado8)\n"
      ],
      "metadata": {
        "colab": {
          "base_uri": "https://localhost:8080/"
        },
        "id": "_5eiQ6TEOUYs",
        "outputId": "405feeff-058f-42ec-a317-c6b1d041fb0c"
      },
      "execution_count": 35,
      "outputs": [
        {
          "output_type": "stream",
          "name": "stdout",
          "text": [
            "Resultado 1: True\n",
            "Resultado 2: True\n",
            "Resultado 3: False\n",
            "Resultado 4: True\n",
            "Resultado 5: False\n",
            "Resultado 6: True\n",
            "Resultado 7: True\n",
            "Resultado 8: True\n"
          ]
        }
      ]
    }
  ]
}