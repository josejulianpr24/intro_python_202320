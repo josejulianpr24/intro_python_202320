{
  "nbformat": 4,
  "nbformat_minor": 0,
  "metadata": {
    "colab": {
      "provenance": [],
      "authorship_tag": "ABX9TyPxwrfaZhGnAy3qJ9V5b8xM",
      "include_colab_link": true
    },
    "kernelspec": {
      "name": "python3",
      "display_name": "Python 3"
    },
    "language_info": {
      "name": "python"
    }
  },
  "cells": [
    {
      "cell_type": "markdown",
      "metadata": {
        "id": "view-in-github",
        "colab_type": "text"
      },
      "source": [
        "<a href=\"https://colab.research.google.com/github/josejulianpr24/intro_python_202320/blob/main/introduction.ipynb\" target=\"_parent\"><img src=\"https://colab.research.google.com/assets/colab-badge.svg\" alt=\"Open In Colab\"/></a>"
      ]
    },
    {
      "cell_type": "markdown",
      "source": [
        "# Introducción a python\n",
        "## Curso de Programacion y Algoritmia UPB 202320\n",
        "- Nombre.. José Julián Pérez Ramos\n",
        "- Id 000461502\n",
        "- Email: josej.perez@upb.edu.co\n",
        "\n",
        "Esta es la expresión de la linea recta:\n",
        "$$y=mx+b$$\n",
        "donde $x$ el a posición"
      ],
      "metadata": {
        "id": "mrbbQwScFhK4"
      }
    },
    {
      "cell_type": "code",
      "source": [
        "#Comentarios\n",
        "# Mis primeras lineas de codigo en python\n",
        "name=\"Jose Julian\"\n",
        "print(\"Hello,\",name)\n"
      ],
      "metadata": {
        "colab": {
          "base_uri": "https://localhost:8080/"
        },
        "id": "4GRW_Z6gRfSM",
        "outputId": "2c09fce3-4513-4793-e7b9-723b5e8f3668"
      },
      "execution_count": null,
      "outputs": [
        {
          "output_type": "stream",
          "name": "stdout",
          "text": [
            "Hello, Jose Julian\n"
          ]
        }
      ]
    },
    {
      "cell_type": "code",
      "source": [
        "name= \"José Julián\"\n",
        "age=\"20\"\n",
        "city=\"Ayapel\"\n",
        "food=\"Mote de queso\"\n",
        "print(\"Mi nombre,\",name, \"tengo,\",age, \"años de edad,\" \"vivo en\",city, \"y me gusta el\",food )"
      ],
      "metadata": {
        "colab": {
          "base_uri": "https://localhost:8080/"
        },
        "id": "-7-E2320TJGB",
        "outputId": "b2befd78-f2e1-40b7-be13-7fbcbaef8e69"
      },
      "execution_count": null,
      "outputs": [
        {
          "output_type": "stream",
          "name": "stdout",
          "text": [
            "Mi nombre, José Julián tengo, 20 años de edad,vivo en Ayapel y me gusta el Mote de queso\n"
          ]
        }
      ]
    },
    {
      "cell_type": "code",
      "source": [
        "a = 3\n",
        "b = 4.5\n",
        "c = a + b\n",
        "print(type(a))\n",
        "print(type(b))\n",
        "print(c)\n",
        "c = c * a\n",
        "print(c)\n",
        "c = c / b\n",
        "print(c)\n",
        "c = int(c / b)\n",
        "print(c)\n",
        "d = 0.3\n",
        "c /= 0.3\n",
        "print(c)"
      ],
      "metadata": {
        "id": "YttdPmNLWRz3",
        "colab": {
          "base_uri": "https://localhost:8080/"
        },
        "outputId": "b83cbc79-67f7-4f72-dae5-88fdb2ef25e5"
      },
      "execution_count": 13,
      "outputs": [
        {
          "output_type": "stream",
          "name": "stdout",
          "text": [
            "<class 'int'>\n",
            "<class 'float'>\n",
            "7.5\n",
            "22.5\n",
            "5.0\n",
            "1\n",
            "3.3333333333333335\n"
          ]
        }
      ]
    },
    {
      "cell_type": "code",
      "source": [
        "m = 5\n",
        "b = 2\n",
        "x = -3\n",
        "y = m * x + b\n",
        "print(x, '/---/', y)\n",
        "x = -2\n",
        "y = m * x + b\n",
        "print(x,'/---/' , y)\n",
        "x = -1\n",
        "y = m * x + b\n",
        "print('x' '/---' , y)\n",
        "x = 0\n",
        "y = m * x + b\n",
        "print('x' '/---' , y)\n",
        "x = 1\n",
        "y = m * x + b\n",
        "print('x' '/---' , y)\n",
        "x = 2\n",
        "y = m * x + b\n",
        "print('x' '/---' , y)\n",
        "x = 3\n",
        "y = m * x + b\n",
        "print('x' '/---' , y)"
      ],
      "metadata": {
        "colab": {
          "base_uri": "https://localhost:8080/"
        },
        "id": "s-yiWko2Zgpd",
        "outputId": "a17cd6f7-3ddb-4314-c156-2066471a37e4"
      },
      "execution_count": 17,
      "outputs": [
        {
          "output_type": "stream",
          "name": "stdout",
          "text": [
            "-3 /---/ -13\n",
            "-2 /---/ -8\n",
            "x/--- -3\n",
            "x/--- 2\n",
            "x/--- 7\n",
            "x/--- 12\n",
            "x/--- 17\n"
          ]
        }
      ]
    },
    {
      "cell_type": "code",
      "source": [
        "a = 1\n",
        "b = 2\n",
        "c = -8\n",
        "disc = (b ** 2 - 4 * a * c) ** (1/2)\n",
        "x_p = (-b + disc) / (2 * a)\n",
        "x_n = (-b - disc) / (2 * a)\n",
        "print('x_p:' , x_p)\n",
        "print('x_n:' , x_n)"
      ],
      "metadata": {
        "colab": {
          "base_uri": "https://localhost:8080/"
        },
        "id": "DR4eIu7LhAGP",
        "outputId": "908c4cf0-39e7-4366-fc65-01410258242f"
      },
      "execution_count": 23,
      "outputs": [
        {
          "output_type": "stream",
          "name": "stdout",
          "text": [
            "x_p: 2.0\n",
            "x_n: -4.0\n"
          ]
        }
      ]
    },
    {
      "cell_type": "code",
      "source": [
        "firstname = 'José Julián'\n",
        "lastname = 'Perez Ramos'\n",
        "fullname = firstname + \" \" + lastname\n",
        "print(fullname)"
      ],
      "metadata": {
        "colab": {
          "base_uri": "https://localhost:8080/"
        },
        "id": "CRkKvF_vjQzO",
        "outputId": "f0580a4c-b004-4a74-b7f2-e236cbd8688b"
      },
      "execution_count": 25,
      "outputs": [
        {
          "output_type": "stream",
          "name": "stdout",
          "text": [
            "José Julián Perez Ramos\n"
          ]
        }
      ]
    },
    {
      "cell_type": "code",
      "source": [
        "song = \"\"\"Un elefante se balanceba sobre la tela de una araña\"\"\"\n",
        "print(song)"
      ],
      "metadata": {
        "colab": {
          "base_uri": "https://localhost:8080/"
        },
        "id": "OlUcYhhYkFO9",
        "outputId": "d0f13e04-6f6e-4257-ac44-50ea167bff7f"
      },
      "execution_count": 28,
      "outputs": [
        {
          "output_type": "stream",
          "name": "stdout",
          "text": [
            "Un elefante se balanceba sobre la tela de una araña\n"
          ]
        }
      ]
    },
    {
      "cell_type": "code",
      "source": [
        "a = 3\n",
        "b = 5\n",
        "print( a == b)\n",
        "print(a != b)\n",
        "print(a > b)\n",
        "print( a < b)\n",
        "print(a == b and b + 3 > 5)\n",
        "print(((a == b)or (b * 3 > 5)))\n",
        "print((a == b))"
      ],
      "metadata": {
        "colab": {
          "base_uri": "https://localhost:8080/"
        },
        "id": "10XQyFC5lLxG",
        "outputId": "1591aac4-824d-4250-afff-0a721fbb415c"
      },
      "execution_count": 31,
      "outputs": [
        {
          "output_type": "stream",
          "name": "stdout",
          "text": [
            "False\n",
            "True\n",
            "False\n",
            "True\n",
            "False\n",
            "True\n",
            "False\n"
          ]
        }
      ]
    }
  ]
}