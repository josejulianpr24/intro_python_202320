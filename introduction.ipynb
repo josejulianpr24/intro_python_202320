{
  "nbformat": 4,
  "nbformat_minor": 0,
  "metadata": {
    "colab": {
      "provenance": [],
      "authorship_tag": "ABX9TyMR+DhwcZ5NF5ILpjCuxTbe",
      "include_colab_link": true
    },
    "kernelspec": {
      "name": "python3",
      "display_name": "Python 3"
    },
    "language_info": {
      "name": "python"
    }
  },
  "cells": [
    {
      "cell_type": "markdown",
      "metadata": {
        "id": "view-in-github",
        "colab_type": "text"
      },
      "source": [
        "<a href=\"https://colab.research.google.com/github/josejulianpr24/intro_python_202320/blob/main/introduction.ipynb\" target=\"_parent\"><img src=\"https://colab.research.google.com/assets/colab-badge.svg\" alt=\"Open In Colab\"/></a>"
      ]
    },
    {
      "cell_type": "markdown",
      "source": [
        "# Introducción a python\n",
        "## Curso de Programacion y Algoritmia UPB 202320\n",
        "- Nombre.. José Julián Pérez Ramos\n",
        "- Id 000461502\n",
        "- Email: josej.perez@upb.edu.co\n",
        "\n",
        "Esta es la expresión de la linea recta:\n",
        "$$y=mx+b$$\n",
        "donde $x$ el a posición"
      ],
      "metadata": {
        "id": "mrbbQwScFhK4"
      }
    },
    {
      "cell_type": "code",
      "source": [],
      "metadata": {
        "id": "PwgKpXj-IKFk"
      },
      "execution_count": null,
      "outputs": []
    }
  ]
}