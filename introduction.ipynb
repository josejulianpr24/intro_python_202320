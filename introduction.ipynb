{
  "nbformat": 4,
  "nbformat_minor": 0,
  "metadata": {
    "colab": {
      "provenance": [],
      "authorship_tag": "ABX9TyPRxNjAAJV+Y+/yMmeD6uEW",
      "include_colab_link": true
    },
    "kernelspec": {
      "name": "python3",
      "display_name": "Python 3"
    },
    "language_info": {
      "name": "python"
    }
  },
  "cells": [
    {
      "cell_type": "markdown",
      "metadata": {
        "id": "view-in-github",
        "colab_type": "text"
      },
      "source": [
        "<a href=\"https://colab.research.google.com/github/josejulianpr24/intro_python_202320/blob/main/introduction.ipynb\" target=\"_parent\"><img src=\"https://colab.research.google.com/assets/colab-badge.svg\" alt=\"Open In Colab\"/></a>"
      ]
    },
    {
      "cell_type": "markdown",
      "source": [
        "# Introducción a python\n",
        "## Curso de Programacion y Algoritmia UPB 202320\n",
        "- Nombre.. José Julián Pérez Ramos\n",
        "- Id 000461502\n",
        "- Email: josej.perez@upb.edu.co\n",
        "\n",
        "Esta es la expresión de la linea recta:\n",
        "$$y=mx+b$$\n",
        "donde $x$ el a posición"
      ],
      "metadata": {
        "id": "mrbbQwScFhK4"
      }
    },
    {
      "cell_type": "code",
      "source": [
        "#Comentarios\n",
        "# Mis primeras lineas de codigo en python\n",
        "name=\"Jose Julian\"\n",
        "print(\"Hello,\",name)\n"
      ],
      "metadata": {
        "colab": {
          "base_uri": "https://localhost:8080/"
        },
        "id": "4GRW_Z6gRfSM",
        "outputId": "2c09fce3-4513-4793-e7b9-723b5e8f3668"
      },
      "execution_count": 2,
      "outputs": [
        {
          "output_type": "stream",
          "name": "stdout",
          "text": [
            "Hello, Jose Julian\n"
          ]
        }
      ]
    },
    {
      "cell_type": "code",
      "source": [
        "name= \"José Julián\"\n",
        "age=\"20\"\n",
        "city=\"Ayapel\"\n",
        "food=\"Mote de queso\"\n",
        "print(\"Mi nombre,\",name, \"tengo,\",age, \"años de edad,\" \"vivo en\",city, \"y me gusta el\",food )"
      ],
      "metadata": {
        "colab": {
          "base_uri": "https://localhost:8080/"
        },
        "id": "-7-E2320TJGB",
        "outputId": "b2befd78-f2e1-40b7-be13-7fbcbaef8e69"
      },
      "execution_count": 4,
      "outputs": [
        {
          "output_type": "stream",
          "name": "stdout",
          "text": [
            "Mi nombre, José Julián tengo, 20 años de edad,vivo en Ayapel y me gusta el Mote de queso\n"
          ]
        }
      ]
    },
    {
      "cell_type": "code",
      "source": [],
      "metadata": {
        "id": "YttdPmNLWRz3"
      },
      "execution_count": null,
      "outputs": []
    }
  ]
}